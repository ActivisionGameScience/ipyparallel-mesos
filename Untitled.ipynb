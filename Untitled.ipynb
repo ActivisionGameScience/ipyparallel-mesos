{
 "cells": [
  {
   "cell_type": "code",
   "execution_count": 29,
   "metadata": {
    "collapsed": false
   },
   "outputs": [],
   "source": [
    "import os\n",
    "import ipyparallel as ipp\n",
    "\n",
    "rc = ipp.Client(profile='test')"
   ]
  },
  {
   "cell_type": "code",
   "execution_count": 30,
   "metadata": {
    "collapsed": false
   },
   "outputs": [
    {
     "data": {
      "text/plain": [
       "[0,\n",
       " 1,\n",
       " 2,\n",
       " 3,\n",
       " 4,\n",
       " 5,\n",
       " 6,\n",
       " 7,\n",
       " 8,\n",
       " 9,\n",
       " 10,\n",
       " 11,\n",
       " 12,\n",
       " 13,\n",
       " 14,\n",
       " 15,\n",
       " 16,\n",
       " 17,\n",
       " 18,\n",
       " 19,\n",
       " 20,\n",
       " 21,\n",
       " 22,\n",
       " 23]"
      ]
     },
     "execution_count": 30,
     "metadata": {},
     "output_type": "execute_result"
    }
   ],
   "source": [
    "rc.ids"
   ]
  },
  {
   "cell_type": "code",
   "execution_count": 23,
   "metadata": {
    "collapsed": false
   },
   "outputs": [],
   "source": [
    "%px\n",
    "import socket\n"
   ]
  },
  {
   "cell_type": "code",
   "execution_count": 31,
   "metadata": {
    "collapsed": false
   },
   "outputs": [
    {
     "data": {
      "text/plain": [
       "['Hello Liz',\n",
       " 'Hello Liz',\n",
       " 'Hello Liz',\n",
       " 'Hello Liz',\n",
       " 'Hello Liz',\n",
       " 'Hello Liz',\n",
       " 'Hello Liz',\n",
       " 'Hello Liz',\n",
       " 'Hello Liz',\n",
       " 'Hello Liz',\n",
       " 'Hello Liz',\n",
       " 'Hello Liz',\n",
       " 'Hello Liz',\n",
       " 'Hello Liz',\n",
       " 'Hello Liz',\n",
       " 'Hello Liz',\n",
       " 'Hello Liz',\n",
       " 'Hello Liz',\n",
       " 'Hello Liz',\n",
       " 'Hello Liz',\n",
       " 'Hello Liz',\n",
       " 'Hello Liz',\n",
       " 'Hello Liz',\n",
       " 'Hello Liz']"
      ]
     },
     "execution_count": 31,
     "metadata": {},
     "output_type": "execute_result"
    }
   ],
   "source": [
    "rc[:].apply_sync(lambda: \"Hello Liz\")"
   ]
  },
  {
   "cell_type": "code",
   "execution_count": 18,
   "metadata": {
    "collapsed": false
   },
   "outputs": [
    {
     "data": {
      "text/plain": [
       "{0: 'tstmesos14.activision.com',\n",
       " 1: 'tstmesos15.activision.com',\n",
       " 2: 'tstmesos18.activision.com',\n",
       " 3: 'tstmesos17.activision.com',\n",
       " 4: 'tstmesos16.activision.com'}"
      ]
     },
     "execution_count": 18,
     "metadata": {},
     "output_type": "execute_result"
    }
   ],
   "source": [
    "import socket\n",
    "rc[:].apply_async(socket.gethostname).get_dict()\n"
   ]
  },
  {
   "cell_type": "code",
   "execution_count": null,
   "metadata": {
    "collapsed": true
   },
   "outputs": [],
   "source": []
  }
 ],
 "metadata": {
  "kernelspec": {
   "display_name": "Python 3",
   "language": "python",
   "name": "python3"
  },
  "language_info": {
   "codemirror_mode": {
    "name": "ipython",
    "version": 3
   },
   "file_extension": ".py",
   "mimetype": "text/x-python",
   "name": "python",
   "nbconvert_exporter": "python",
   "pygments_lexer": "ipython3",
   "version": "3.4.4"
  }
 },
 "nbformat": 4,
 "nbformat_minor": 0
}
